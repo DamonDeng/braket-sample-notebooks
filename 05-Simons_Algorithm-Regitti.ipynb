{
 "cells": [
  {
   "cell_type": "markdown",
   "metadata": {},
   "source": [
    "# Simon's Algorithm\n",
    "\n",
    "## Problem statement:\n",
    "\n",
    "Given: a function $f$ acting on bit strings $f:\\{0,1\\}^n \\rightarrow \\{0,1\\}^n$ and a promise that $f(x)=f(x \\oplus s)$ for all $x$ (addition mod 2). The goal is to use Simon's algorithm to find the unknown string $s$.\n",
    "\n",
    "\n"
   ]
  },
  {
   "cell_type": "markdown",
   "metadata": {},
   "source": [
    "### Example:\n",
    "\n",
    "For example, if $n = 3$, then the following function is an example of a function that satisfies the required and just mentioned property:\n",
    "\n",
    "|$x$|   $$f(x)$$|\n",
    "|---|------|\n",
    "|000|\t101|\n",
    "|001|\t010|\n",
    "|010|\t000|\n",
    "|011|\t110|\n",
    "|100|\t000|\n",
    "|101|\t110|\n",
    "|110|\t101|\n",
    "|111|\t010|\n",
    "\n"
   ]
  },
  {
   "cell_type": "markdown",
   "metadata": {},
   "source": [
    "Given $f$ is a two-to-one function i.e. it maps exactly two inputs to every unique output, and we find 2 values of input $x$ that have the same output, $f(x_1)=f(x_2)$ then it is guaranteed that $x_1 \\oplus x_2 = s$\n",
    "\n",
    "For example, the input strings $011$ and $101$ are both mapped by $f$ to the same output string $110$. If we XOR $011$ and $101$ we obtain $s$, that is:\n",
    "\n",
    "$$011 \\oplus 101 = 110$$\n",
    "\n",
    "so for this example $s = 110$"
   ]
  },
  {
   "cell_type": "markdown",
   "metadata": {},
   "source": [
    "\n",
    "## Problem hardness\n",
    "\n",
    "To solve this classically, you need to find two different inputs $x$ and $y$ for which $f(x)=f(y)$. Given $f$ is a blackbox, we can discover something about $f$ (or what it does) only when, for two different inputs, we obtain the same output. In any case, we would need to guess $ \\Omega ({\\sqrt {2^{n}}})$ different inputs before being likely to find a pair on which $f$ takes the same output.\n"
   ]
  },
  {
   "cell_type": "markdown",
   "metadata": {},
   "source": [
    "## Simon's Algorithm\n",
    "\n",
    "The high-level idea behind Simon's algorithm is to \"probe\" a quantum circuit \"enough times\" to find $n-1$ (linearly independent) n-bit strings, that is\n",
    "\n",
    "$$ y_{1},y_{2},\\dots ,y_{n-1}\\in \\{0,1\\}^{n} $$\n",
    "\n",
    "such that the following equations are satisfied\n",
    "\n",
    "$$ \\begin{aligned}y_{1}\\cdot s&=0\\\\y_{2}\\cdot s&=0\\\\&\\,\\,\\,\\vdots \\\\y_{n-1}\\cdot s&=0\\end{aligned}$$ \n",
    "\n",
    "\n",
    "where $ y_{i}\\cdot s$ is the modulo-2 dot product; that is, $ y_{i}\\cdot s=y_{i1}s_{1}\\oplus y_{i2}s_{2}\\oplus \\dots \\oplus y_{in}s_{n} $\n",
    "\n",
    "So, this linear system contains $n-1$ linear equations in $n$ unknowns (i.e. the bits of $s$, and the goal is to solve it to obtain $s$, and $s$ is fixed for a given function $f$.\n",
    "\n",
    "\n",
    "### Simon's quantum circuit\n",
    "\n",
    "The quantum circuit below is the implementation (and visualization) of the quantum part of Simon's algorithm.\n",
    "\n",
    "<img src=\"https://upload.wikimedia.org/wikipedia/commons/f/fb/Simons_algorithm.svg\"/>\n",
    "\n",
    "The circuit acts on $2n$ qubits (where $n$ is the length of the bit string in question (i.e., $n=3$ for our example). Apply a Hadamard gate to the first $n$ qubits, then apply $U_f$ - which is an oracle (or \"black box\"), which knows how to compute $f$ , then apply a Hadamard gate to the first $n$ qubits.\n",
    "\n",
    "For more details on Simon's algorithm refer to [Wikipedia](<https://en.wikipedia.org/wiki/Simon%27s_problem#Simon's_algorithm>)\n"
   ]
  },
  {
   "cell_type": "markdown",
   "metadata": {},
   "source": [
    "## IMPORTS and SETUP"
   ]
  },
  {
   "cell_type": "code",
   "execution_count": 3,
   "metadata": {},
   "outputs": [],
   "source": [
    "from braket.circuits import Circuit\n",
    "from braket.devices import LocalSimulator\n",
    "import numpy as np\n",
    "import time\n",
    "import matplotlib.pyplot as plt\n",
    "%matplotlib inline\n",
    "\n",
    "# Sets the device to run the circuit on\n",
    "device = LocalSimulator()\n",
    "\n"
   ]
  },
  {
   "cell_type": "markdown",
   "metadata": {},
   "source": [
    "### Circuit Definition\n",
    "\n",
    "1. We start by applying Hadamard gates to the first $n$-qubits. \n",
    "\n",
    "\n",
    "2. We apply the oracle/black box ($U_f$ gate) to map to $f(x)$. Here we build it dynamically based on our chosen value of $s$. (You can experiment by setting $s$ to other values and different lengths).\n",
    "\n",
    "\n",
    "3. We apply Hadamard Gate to the first $n$-qubits.\n"
   ]
  },
  {
   "cell_type": "code",
   "execution_count": 4,
   "metadata": {},
   "outputs": [
    {
     "name": "stdout",
     "output_type": "stream",
     "text": [
      "T  : |0| 1 | 2 |  3  |   4   |   5   |  6  | 7 |8|9|\n",
      "                                                    \n",
      "q0 : -H-C---C---C-----C-------C-------H-------------\n",
      "        |   |   |     |       |                     \n",
      "q1 : -H-|---|-C-|-C---|-C-----|-C-----C-----H-------\n",
      "        |   | | | |   | |     | |     |             \n",
      "q2 : -H-|-H-|-|-|-|---|-|-----|-|-----|-------------\n",
      "        |   | | | |   | |     | |     |             \n",
      "q3 : -H-|---|-|-|-|-C-|-|-C---|-|-C---|-C---C---H---\n",
      "        |   | | | | | | | |   | | |   | |   |       \n",
      "q4 : -H-|---|-|-|-|-|-|-|-|-C-|-|-|-C-|-|-C-|-C-C-H-\n",
      "        |   | | | | | | | | | | | | | | | | | | |   \n",
      "q5 : ---X---|-X-|-|-X-|-|-|-X-|-|-|-|-|-|-|-|-|-|---\n",
      "            |   | |   | | |   | | | | | | | | | |   \n",
      "q6 : -------X---|-X---|-|-X---|-|-|-X-|-|-|-|-|-|---\n",
      "                |     | |     | | |   | | | | | |   \n",
      "q7 : -----------X-----|-X-----|-|-X---|-|-X-|-|-|---\n",
      "                      |       | |     | |   | | |   \n",
      "q8 : -----------------X-------|-X-----|-X---|-X-|---\n",
      "                              |       |     |   |   \n",
      "q9 : -------------------------X-------X-----X---X---\n",
      "\n",
      "T  : |0| 1 | 2 |  3  |   4   |   5   |  6  | 7 |8|9|\n"
     ]
    }
   ],
   "source": [
    "s = '11011'\n",
    "n = len(str(s))\n",
    "\n",
    "circ = Circuit()\n",
    "\n",
    "## Apply Hadamard gates to first n qubits before querying the oracle \n",
    "circ.h(range(n)) \n",
    "\n",
    "# Generic Oracle to implement function f(x) with chosen value of s. \n",
    "# Apply cnot only for bits of s that are 1\n",
    "for i in range(n):\n",
    "    if int(s[i]) == 1:\n",
    "        for j in range(n):\n",
    "            circ.cnot(i, n + j)\n",
    "\n",
    "\n",
    "# Apply Hadamard gates to the first n qbits\n",
    "circ.h(range(n)) \n",
    "\n",
    "\n",
    "print(circ)"
   ]
  },
  {
   "cell_type": "markdown",
   "metadata": {},
   "source": [
    "## Now run the circuit"
   ]
  },
  {
   "cell_type": "code",
   "execution_count": 5,
   "metadata": {},
   "outputs": [],
   "source": [
    "task = device.run(circ, shots=2*n-1)"
   ]
  },
  {
   "cell_type": "markdown",
   "metadata": {},
   "source": [
    "### Analyze the results\n",
    "\n",
    "The measurements are performed on all $2n$ qubits. We are only interested in the first $n$ qubits. So we count the unique results of first $n$ qubits and plott the results"
   ]
  },
  {
   "cell_type": "code",
   "execution_count": 6,
   "metadata": {},
   "outputs": [
    {
     "name": "stdout",
     "output_type": "stream",
     "text": [
      "measurement_counts: Counter({'1101100000': 3, '0000000000': 3, '0000011111': 2, '1101111111': 1})\n",
      "\n",
      "measurement_of_input_registers: {'11011': 4, '00000': 5}\n",
      "\n"
     ]
    },
    {
     "data": {
      "image/png": "[encoded data removed]",
      "text/plain": [
       "<Figure size 432x288 with 1 Axes>"
      ]
     },
     "metadata": {
      "needs_background": "light"
     },
     "output_type": "display_data"
    }
   ],
   "source": [
    "result = task.result()\n",
    "print(f\"measurement_counts: {result.measurement_counts}\\n\")\n",
    "\n",
    "\n",
    "# Simulate partial measurement by seperating out first n bits\n",
    "answer_plot = {}\n",
    "for measresult in result.measurement_counts.keys():\n",
    "    measresult_input = measresult[:len(str(s))]\n",
    "    if measresult_input in answer_plot:\n",
    "        answer_plot[measresult_input] += result.measurement_counts[measresult]\n",
    "    else:\n",
    "        answer_plot[measresult_input] = result.measurement_counts[measresult] \n",
    "\n",
    "print(f\"measurement_of_input_registers: {answer_plot}\\n\")\n",
    "plt.bar(answer_plot.keys(), answer_plot.values())\n",
    "plt.show()\n",
    "        "
   ]
  },
  {
   "cell_type": "markdown",
   "metadata": {},
   "source": [
    "Using these results, we can recover the value of $s$ "
   ]
  },
  {
   "cell_type": "code",
   "execution_count": 7,
   "metadata": {},
   "outputs": [
    {
     "name": "stdout",
     "output_type": "stream",
     "text": [
      "Bitwise XOR / Dot product of the 2 results y1 and y2 retrieves our unknown string 's' --> 11011\n",
      "\n"
     ]
    }
   ],
   "source": [
    "y1,y2 = answer_plot.keys()\n",
    "\n",
    "s_calc = int(y1)^int(y2)\n",
    "    \n",
    "print(f\"Bitwise XOR / Dot product of the 2 results y1 and y2 retrieves our unknown string 's' --> {s_calc}\\n\")"
   ]
  },
  {
   "cell_type": "markdown",
   "metadata": {},
   "source": [
    "In Real Qunatum devices and larger bitstrings, we might get multiple answers that satisfy the equations:\n",
    "$$ \\begin{aligned}y_{1}\\cdot s&=0\\\\y_{2}\\cdot s&=0\\\\&\\,\\,\\,\\vdots \\\\y_{n-1}\\cdot s&=0\\end{aligned}$$ \n",
    "\n",
    "Once we have $n$ linear equations, we proceed to post-processing with computations that can be done on classical computers using Gaussian elimination. \n",
    "\n",
    "The steps are as below. ( Reference : https://github.com/nallg00d/simonqiskit/blob/master/simon_algorithm.ipynb )"
   ]
  },
  {
   "cell_type": "code",
   "execution_count": 8,
   "metadata": {},
   "outputs": [
    {
     "name": "stdout",
     "output_type": "stream",
     "text": [
      "Status of task: CREATED\n"
     ]
    }
   ],
   "source": [
    "from braket.aws import AwsDevice, AwsQuantumTask\n",
    "# Please enter the S3 bucket you created during onboarding in the code below\n",
    "my_bucket = f\"amazon-braket-251940851769\" # the name of the bucket\n",
    "my_prefix = \"simons-output\" # the name of the folder in the bucket\n",
    "s3_folder = (my_bucket, my_prefix)\n",
    "\n",
    "# set up device\n",
    "rigetti = AwsDevice(\"arn:aws:braket:::device/qpu/rigetti/Aspen-8\")\n",
    "\n",
    "# run circuit with a polling time of 5 days\n",
    "rigetti_task = rigetti.run(circ, s3_folder, shots=100, poll_timeout_seconds=5*24*60*60)\n",
    "\n",
    "# get id and status of submitted task\n",
    "rigetti_task_id = rigetti_task.id\n",
    "rigetti_status = rigetti_task.state()\n",
    "# print('ID of task:', rigetti_task_id)\n",
    "print('Status of task:', rigetti_status)"
   ]
  },
  {
   "cell_type": "code",
   "execution_count": 13,
   "metadata": {},
   "outputs": [
    {
     "name": "stdout",
     "output_type": "stream",
     "text": [
      "Status of (reconstructed) task: QUEUED\n"
     ]
    }
   ],
   "source": [
    "status = rigetti_task.state()\n",
    "print('Status of (reconstructed) task:', status)"
   ]
  },
  {
   "cell_type": "code",
   "execution_count": null,
   "metadata": {},
   "outputs": [],
   "source": [
    "result = rigetti_task.result()\n",
    "print(f\"measurement_counts: {result.measurement_counts}\\n\")\n",
    "\n",
    "\n",
    "# Simulate partial measurement by seperating out first n bits\n",
    "answer_plot = {}\n",
    "for measresult in result.measurement_counts.keys():\n",
    "    measresult_input = measresult[:len(str(s))]\n",
    "    if measresult_input in answer_plot:\n",
    "        answer_plot[measresult_input] += result.measurement_counts[measresult]\n",
    "    else:\n",
    "        answer_plot[measresult_input] = result.measurement_counts[measresult] \n",
    "\n",
    "print(f\"measurement_of_input_registers: {answer_plot}\\n\")\n",
    "plt.bar(answer_plot.keys(), answer_plot.values())\n",
    "plt.show()\n",
    "        "
   ]
  },
  {
   "cell_type": "code",
   "execution_count": 46,
   "metadata": {},
   "outputs": [
    {
     "name": "stdout",
     "output_type": "stream",
     "text": [
      "Matrix([[1, 1, 0, 1, 1]])\n",
      "Matrix([[1, 1, 0, 1, 1]])\n",
      "The hidden bistring s[ 0 ], s[ 1 ]....s[ 4 ] is the one satisfying the following system of linear equations:\n",
      "s[ 0 ] + s[ 1 ] + s[ 3 ] + s[ 4 ] = 0\n"
     ]
    }
   ],
   "source": [
    "# Post-processing step\n",
    "# Constructing the system of linear equations Y s = 0\n",
    "\n",
    "lAnswer = [ (k,v) for k,v in answer_plot.items() if k != \"0\"*n  ] #excluding the trivial all-zero\n",
    "\n",
    "#Sort the basis by their probabilities\n",
    "lAnswer.sort(key = lambda x: x[1], reverse=True)\n",
    "\n",
    "Y = []\n",
    "for k, v in lAnswer:\n",
    "    Y.append( [ int(c) for c in k ] )\n",
    "\n",
    "\n",
    "#import tools from sympy\n",
    "from sympy import Matrix, pprint, MatrixSymbol, expand, mod_inverse\n",
    "\n",
    "\n",
    "Y = Matrix(Y)\n",
    "print(Y)\n",
    "\n",
    "\n",
    "#Perform Gaussian elimination on Y\n",
    "Y_transformed = Y.rref(iszerofunc=lambda x: x % 2==0) # linear algebra on GF(2) \n",
    "\n",
    "#to convert rational and negatives in rref of linear algebra on GF(2)\n",
    "def mod(x,modulus):\n",
    "    numer, denom = x.as_numer_denom()\n",
    "    return numer*mod_inverse(denom,modulus) % modulus\n",
    "\n",
    "Y_new = Y_transformed[0].applyfunc(lambda x: mod(x,2)) #must takecare of negatives and fractional values\n",
    "print(Y_new)\n",
    "\n",
    "print(\"The hidden bistring s[ 0 ], s[ 1 ]....s[\",n-1,\"] is the one satisfying the following system of linear equations:\")\n",
    "rows, cols = Y_new.shape\n",
    "for r in range(rows):\n",
    "    Yr = [ \"s[ \"+str(i)+\" ]\" for i, v in enumerate(list(Y_new[r,:])) if v == 1 ]\n",
    "    if len(Yr) > 0:\n",
    "        tStr = \" + \".join(Yr)\n",
    "        print(tStr, \"= 0\")"
   ]
  },
  {
   "cell_type": "markdown",
   "metadata": {},
   "source": [
    "As seen above, the system of linear equations is satisfied by the unknown string $s$."
   ]
  }
 ],
 "metadata": {
  "kernelspec": {
   "display_name": "jup_oct_kernel",
   "language": "python",
   "name": "jup_oct_kernel"
  },
  "language_info": {
   "codemirror_mode": {
    "name": "ipython",
    "version": 3
   },
   "file_extension": ".py",
   "mimetype": "text/x-python",
   "name": "python",
   "nbconvert_exporter": "python",
   "pygments_lexer": "ipython3",
   "version": "3.8.5"
  }
 },
 "nbformat": 4,
 "nbformat_minor": 2
}
