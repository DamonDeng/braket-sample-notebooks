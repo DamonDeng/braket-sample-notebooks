{
 "cells": [
  {
   "cell_type": "code",
   "execution_count": 5,
   "metadata": {},
   "outputs": [],
   "source": [
    "from braket.circuits import Circuit\n",
    "from braket.devices import LocalSimulator\n",
    "import matplotlib.pyplot as plt\n",
    "import numpy as np\n",
    "import time\n",
    "%matplotlib inline\n",
    "\n",
    "device = LocalSimulator()"
   ]
  },
  {
   "cell_type": "code",
   "execution_count": 6,
   "metadata": {},
   "outputs": [
    {
     "name": "stdout",
     "output_type": "stream",
     "text": [
      "T  : |0|1|2|3|4|5|6|\n",
      "                    \n",
      "q0 : -H-T-Z-H-C-H-C-\n",
      "              |   | \n",
      "q1 : -H-C-----X-C-|-\n",
      "        |       | | \n",
      "q2 : ---X-------X-Z-\n",
      "\n",
      "T  : |0|1|2|3|4|5|6|\n"
     ]
    }
   ],
   "source": [
    "qt = Circuit()\n",
    "\n",
    "# Initial State \n",
    "\n",
    "#qt.i(0)            # Initial State is 0\n",
    "#qt.x(0)             # Initial State is 1\n",
    "#qt.h(0)             # Initial State is a 50:50 superposition\n",
    "#qt.h(0).t(0).h(0)     # Initial State is 85:15 superposition\n",
    "qt.h(0).t(0).z(0).h(0) # Initial State is 15:85 superposition\n",
    "#qt.ry(0,2*np.pi/5)      # Initial State is 66:33 superposition\n",
    "######\n",
    "\n",
    "\n",
    "\n",
    "# Prepare a Bell state between qubits 1 &2. Qubit 0 & 1 is with Alice. Qubit 2 is with Bob\n",
    "\n",
    "qt.h(1).cnot(1,2)\n",
    "\n",
    "# Add CNOT and Hadamard to Alice's part of the circuit\n",
    "\n",
    "qt.cnot(0,1)\n",
    "qt.h(0)\n",
    "\n",
    "\n",
    "# Add Conditional gates to Bob's Qubit\n",
    "qt.cnot(1,2)\n",
    "qt.cz(0,2)\n",
    "print(qt)\n",
    "\n"
   ]
  },
  {
   "cell_type": "markdown",
   "metadata": {},
   "source": [
    "## Now run the circuit"
   ]
  },
  {
   "cell_type": "code",
   "execution_count": 8,
   "metadata": {},
   "outputs": [],
   "source": [
    "task = device.run(qt,shots=1000)"
   ]
  },
  {
   "cell_type": "code",
   "execution_count": 9,
   "metadata": {},
   "outputs": [
    {
     "name": "stdout",
     "output_type": "stream",
     "text": [
      "COMPLETED\n"
     ]
    }
   ],
   "source": [
    "while task.state() != \"COMPLETED\" :\n",
    "    print(task.state())\n",
    "    time.sleep(1)\n",
    "print(task.state())"
   ]
  },
  {
   "cell_type": "code",
   "execution_count": 11,
   "metadata": {},
   "outputs": [
    {
     "name": "stdout",
     "output_type": "stream",
     "text": [
      "measurement_counts: Counter({'101': 228, '111': 225, '011': 208, '001': 193, '010': 41, '110': 38, '100': 34, '000': 33})\n",
      "\n",
      "measurement_probabilities: {'001': 0.193, '111': 0.225, '011': 0.208, '110': 0.038, '101': 0.228, '010': 0.041, '000': 0.033, '100': 0.034}\n",
      "\n"
     ]
    },
    {
     "data": {
      "image/png": "[encoded data removed]",
      "text/plain": [
       "<Figure size 432x288 with 1 Axes>"
      ]
     },
     "metadata": {
      "needs_background": "light"
     },
     "output_type": "display_data"
    }
   ],
   "source": [
    "result = task.result()\n",
    "print(f\"measurement_counts: {result.measurement_counts}\\n\")\n",
    "print(f\"measurement_probabilities: {result.measurement_probabilities}\\n\")\n",
    "plt.bar(result.measurement_counts.keys(), result.measurement_counts.values())\n",
    "plt.show()"
   ]
  },
  {
   "cell_type": "markdown",
   "metadata": {},
   "source": [
    "### We should see the Initial state in qubit 0 being measured in Qubit 2 at the end\n",
    "\n"
   ]
  },
  {
   "cell_type": "code",
   "execution_count": 12,
   "metadata": {
    "scrolled": false
   },
   "outputs": [
    {
     "data": {
      "image/png": "[encoded data removed]",
      "text/plain": [
       "<Figure size 432x288 with 1 Axes>"
      ]
     },
     "metadata": {
      "needs_background": "light"
     },
     "output_type": "display_data"
    }
   ],
   "source": [
    "lastbit = []\n",
    "for j in range(len(result.measurements)):\n",
    "    lastbit.append(\"\".join([str(result.measurements[j][2])]))\n",
    "\n",
    "plt.hist(lastbit)\n",
    "plt.show()"
   ]
  },
  {
   "cell_type": "code",
   "execution_count": 14,
   "metadata": {},
   "outputs": [
    {
     "name": "stdout",
     "output_type": "stream",
     "text": [
      "['0' '1'] [146 854]\n"
     ]
    }
   ],
   "source": [
    "bins,counts = np.unique(lastbit, return_counts = True)\n",
    "print(bins,counts)"
   ]
  },
  {
   "cell_type": "markdown",
   "metadata": {},
   "source": [
    "---"
   ]
  }
 ],
 "metadata": {
  "kernelspec": {
   "display_name": "jup_oct_kernel",
   "language": "python",
   "name": "jup_oct_kernel"
  },
  "language_info": {
   "codemirror_mode": {
    "name": "ipython",
    "version": 3
   },
   "file_extension": ".py",
   "mimetype": "text/x-python",
   "name": "python",
   "nbconvert_exporter": "python",
   "pygments_lexer": "ipython3",
   "version": "3.8.5"
  }
 },
 "nbformat": 4,
 "nbformat_minor": 2
}
