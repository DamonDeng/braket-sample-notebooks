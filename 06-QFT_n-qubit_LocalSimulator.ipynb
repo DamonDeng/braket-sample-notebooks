{
 "cells": [
  {
   "cell_type": "markdown",
   "metadata": {},
   "source": [
    "# Quantum Fourier Transform\n",
    "\n",
    "In this noteboook, we'll introduce concepts of Quantum Fourier Transform (QFT) and implementation in Amazon Braket - using LocalSimulator & AWS Quantum Simulator"
   ]
  },
  {
   "cell_type": "markdown",
   "metadata": {},
   "source": [
    "## Introduction\n",
    "\n",
    "The Classical version of Fourier Transform is used to transform a signal from time-domain to frequency-domain. In mathematical notation, the classical discrete Fourier transform takes as input a vector of complex numbers,\n",
    "$x_0, . . . , x_{N−1}$ where the length N of the vector is a fixed parameter. It outputs the\n",
    "transformed data, a vector of complex numbers $y_0, . . . , y_{N−1}$ defined by:\n",
    "\n",
    "$$y_k = \\frac{1}{\\sqrt{N}}\\sum_{j=0}^{N-1}e^\\frac{2\\pi ijk}{N}x_j$$\n",
    "\n",
    "The quantum Fourier transform is exactly the same transformation, although the\n",
    "conventional notation for the quantum Fourier transform is somewhat different. The\n",
    "quantum Fourier transform on an orthonormal basis $|0\\rangle, . . . , |N − 1\\rangle$ is defined to be a\n",
    "linear operator with the following action on the basis states,\n",
    "\n",
    "$$|j\\rangle \\rightarrow \\frac{1}{\\sqrt{N}}\\sum_{k=0}^{N-1}e^\\frac{2\\pi ijk}{N}|k\\rangle$$\n",
    "\n",
    "Equivalently, the action of QFT on an arbitrary state may be written as:\n",
    "\n",
    "\n",
    "$$\\sum_{j}U_j|j\\rangle \\rightarrow \\sum_{k}\\widetilde{U}_k|k\\rangle , \\text{   Where    } \\widetilde{U}_k= \\frac{1}{\\sqrt{N}}\\sum_{j=0}^{N-1}e^\\frac{2\\pi ijk}{N}U_j $$\n",
    "\n",
    "In other words, QFT transforms qubits from computational basis ($U$) state to Fourier basis ($\\widetilde{U}$) state.\n",
    "\n",
    "### Product Representation\n",
    "\n",
    "There is a product representation version of this Quantum Fourier Transform which is very useful and allows us to construct an efficient quantum circuit computing the Fourier transform. \n",
    "\n",
    "We take $N = 2^n$, where $n$ is some integer, and the basis $|0\\rangle, . . . , |2^n − 1\\rangle$ is the computational basis. It is helpful to write the state $|j\\rangle$ using the binary representation $j = j_1j_2 . . . j_n$. It is also convenient to adopt the notation $0.j_1j_2 . . . j_n$\n",
    "\n",
    "With a little algebra the quantum Fourier transform can be given the following _product representation_:\n",
    "\n",
    "\n",
    "$$|j_1j_2 . . . j_n\\rangle \\rightarrow \\frac{(|0\\rangle+e^{2\\pi i0.j_n}|1\\rangle)(|0\\rangle+e^{2\\pi i0.j_{n-1}j_n}|1\\rangle)...(|0\\rangle+e^{2\\pi i0.j_1j_2...j_n}|1\\rangle)}{\\sqrt{2^n}}$$ \n",
    "\n",
    "\n",
    "#### Example : Applying QFT on $|011\\rangle$: \n",
    "\n",
    "Here $n=3$ & $j_1=0$, $j_2=1$ & $j_3=1$\n",
    "\n",
    "The output will be : \n",
    "\n",
    "$$\\frac{(|0\\rangle+e^{2\\pi i0.j_3}|1\\rangle)(|0\\rangle+e^{2\\pi i0.j_{2}j_3}|1\\rangle)...(|0\\rangle+e^{2\\pi i0.j_1j_2j_3}|1\\rangle)}{\\sqrt{2^3}}$$\n",
    "\n",
    "$$ = \\frac{(|0\\rangle+e^{2\\pi i (0.1)}|1\\rangle)(|0\\rangle+e^{2\\pi i (0.11)}|1\\rangle)...(|0\\rangle+e^{2\\pi i (0.011}|1\\rangle)}{\\sqrt{8}}$$ \n",
    "\n",
    "$$ = \\frac{(|0\\rangle+e^{\\pi i}|1\\rangle)(|0\\rangle+e^{\\frac{3\\pi i}{2}}|1\\rangle)...(|0\\rangle+e^{\\frac{3\\pi i}{4}}|1\\rangle)}{\\sqrt{8}}$$\n",
    "\n",
    "Each input qubit is mapped to a superposition state with different phase rotations.\n",
    "\n",
    "### Circuit for QFT\n",
    "\n",
    "The product representation makes it easy to derive an efficient circuit for the quantum Fourier transform. We will use 2 types of gates : Hadamard Gate and Controlled-Phaseshift Gate. \n",
    "\n",
    "Hadamard adds the superpostion and Controlled-Phaseshift Gate (R Gate) applies a relative phase change to $|1\\rangle$. QFT can be implemented with a series of Controlled-Phaseshift Gates as below:\n",
    "\n",
    "<img src=\"https://upload.wikimedia.org/wikipedia/commons/thumb/6/61/Q_fourier_nqubits.png/1920px-Q_fourier_nqubits.png\">\n",
    "\n",
    "\n",
    "At the end swap operations are added to reverse the order of qubits and we obtain the desired output from quantum Fourier transform.\n"
   ]
  },
  {
   "cell_type": "markdown",
   "metadata": {},
   "source": [
    "## Amazon Braket implementations\n",
    "\n",
    "We will implement QFT in both LocalSimulator and Amazon Braket Simulator in the cloud. (This can also be updated to run on a Real Quantum devices later. )\n",
    "\n",
    "If we try to run QFT to transform from Computational basis input, due to the superposition state of the output, we'll not be able to verify the results. \n",
    "\n",
    "To demonstrate QFT, we'll prepare an initial Fourier State and apply QFT to obtain output in Computational basis - which we can verify. \n",
    "\n",
    "We have created helper functions to add QFT part and to generate initial Fourier State for any n-qubit input state.\n",
    "\n"
   ]
  },
  {
   "cell_type": "markdown",
   "metadata": {},
   "source": [
    "#### Imports and Setup"
   ]
  },
  {
   "cell_type": "code",
   "execution_count": 21,
   "metadata": {},
   "outputs": [],
   "source": [
    "from math import pi\n",
    "from braket.circuits import Circuit\n",
    "from braket.aws import AwsQuantumSimulator, AwsQuantumSimulatorArns, AwsQpu, AwsQpuArns\n",
    "from braket.devices import LocalSimulator\n",
    "import time\n",
    "import boto3\n",
    "import matplotlib.pyplot as plt\n",
    "%matplotlib inline\n",
    "\n"
   ]
  },
  {
   "cell_type": "code",
   "execution_count": 22,
   "metadata": {},
   "outputs": [],
   "source": [
    "# Function to convert binary fractional to decimal  \n",
    "def binaryToDecimal(binary, length) : \n",
    "    point = binary.find('.') \n",
    "    if (point == -1) : \n",
    "        point = length  \n",
    "    intDecimal = 0\n",
    "    fracDecimal = 0\n",
    "    twos = 1\n",
    "    for i in range(point-1, -1, -1) :  \n",
    "        intDecimal += ((ord(binary[i]) - \n",
    "                        ord('0')) * twos)  \n",
    "        twos *= 2\n",
    "    twos = 2\n",
    "    for i in range(point + 1, length): \n",
    "        fracDecimal += ((ord(binary[i]) -\n",
    "                         ord('0')) / twos);  \n",
    "        twos *= 2.0 \n",
    "    ans = intDecimal + fracDecimal \n",
    "    return ans "
   ]
  },
  {
   "cell_type": "markdown",
   "metadata": {},
   "source": [
    "### Generic function for adding n-bit QFT to Amazon Braket Circuits"
   ]
  },
  {
   "cell_type": "code",
   "execution_count": 23,
   "metadata": {},
   "outputs": [],
   "source": [
    "def add_qft_n(circ, n):\n",
    "    for j in range(n):\n",
    "        circ.h(j)\n",
    "        for k in range(j+1,n):\n",
    "            circ.cphaseshift(k, j, pi/float(2**(k-j)))\n",
    "    for qubit in range(n//2):\n",
    "        circ.swap(qubit, n-qubit-1)\n",
    "        "
   ]
  },
  {
   "cell_type": "markdown",
   "metadata": {},
   "source": [
    "### Generic function for initializing a Fourier State $|\\widetilde{U}\\rangle$ \n"
   ]
  },
  {
   "cell_type": "code",
   "execution_count": 24,
   "metadata": {},
   "outputs": [],
   "source": [
    "def init_fourier_state(circ, QubitState):\n",
    "    for i in range(len(QubitState)):\n",
    "        j_bin=\"0.\"+QubitState[-i-1:]\n",
    "        j_dec=binaryToDecimal(j_bin,len(j_bin))\n",
    "        circ.h(i).phaseshift(i,-2*pi*j_dec)\n",
    "        print(j_bin,j_dec,-2*pi*j_dec)\n"
   ]
  },
  {
   "cell_type": "markdown",
   "metadata": {},
   "source": [
    "## Create the circuit\n",
    "\n",
    "Please update the QbitState string to any value you prefer"
   ]
  },
  {
   "cell_type": "code",
   "execution_count": 36,
   "metadata": {},
   "outputs": [
    {
     "name": "stdout",
     "output_type": "stream",
     "text": [
      "0.1 0.5 -3.141592653589793\n",
      "0.01 0.25 -1.5707963267948966\n",
      "0.001 0.125 -0.7853981633974483\n",
      "0.1001 0.5625 -3.5342917352885173\n",
      "0.01001 0.28125 -1.7671458676442586\n",
      "T  : |0|      1      |2|     3     |      4       |           5            |             6             |           7            |      8       |     9     | 10 | 11 |\n",
      "                                                                                                                                                                      \n",
      "q0 : -H-PHASE(-3.14)--H-PHASE(1.57)-PHASE(0.785)---PHASE(0.393)-------------PHASE(0.196)-------------------------------------------------------------------------SWAP-\n",
      "                        |           |              |                        |                                                                                    |    \n",
      "q1 : -H-PHASE(-1.57)----C-----------|------------H-|------------PHASE(1.57)-|------------PHASE(0.785)---PHASE(0.393)----------------------------------------SWAP-|----\n",
      "                                    |              |            |           |            |              |                                                   |    |    \n",
      "q2 : -H-PHASE(-0.785)---------------C--------------|------------C-----------|------------|------------H-|------------PHASE(1.57)-PHASE(0.785)---------------|----|----\n",
      "                                                   |                        |            |              |            |           |                          |    |    \n",
      "q3 : -H-PHASE(-3.53)-------------------------------C------------------------|------------C--------------|------------C-----------|------------H-PHASE(1.57)-SWAP-|----\n",
      "                                                                            |                           |                        |              |                |    \n",
      "q4 : -H-PHASE(-1.77)--------------------------------------------------------C---------------------------C------------------------C--------------C-----------H----SWAP-\n",
      "\n",
      "T  : |0|      1      |2|     3     |      4       |           5            |             6             |           7            |      8       |     9     | 10 | 11 |\n"
     ]
    }
   ],
   "source": [
    "\n",
    "circ = Circuit()\n",
    "\n",
    "\n",
    "QubitState = \"01001\"\n",
    "\n",
    "# initialize input Fourier State for any n-Qubit state  \n",
    "init_fourier_state(circ,QubitState)\n",
    "\n",
    "# Add n-Qubit QFT based on length input Qubit state\n",
    "add_qft_n(circ,len(QubitState))\n",
    "\n",
    "\n",
    "print(circ)"
   ]
  },
  {
   "cell_type": "markdown",
   "metadata": {},
   "source": [
    "## Run in LocalSimulator"
   ]
  },
  {
   "cell_type": "code",
   "execution_count": 26,
   "metadata": {},
   "outputs": [],
   "source": [
    "device_local = LocalSimulator()\n",
    "task_local = device_local.run(circ, shots=1000)"
   ]
  },
  {
   "cell_type": "code",
   "execution_count": 27,
   "metadata": {
    "scrolled": true
   },
   "outputs": [
    {
     "name": "stdout",
     "output_type": "stream",
     "text": [
      "measurement_counts: Counter({'1011': 1000})\n",
      "\n",
      "measurement_probabilities: {'1011': 1.0}\n",
      "\n"
     ]
    },
    {
     "data": {
      "image/png": "[encoded data removed]",
      "text/plain": [
       "<Figure size 432x288 with 1 Axes>"
      ]
     },
     "metadata": {
      "needs_background": "light"
     },
     "output_type": "display_data"
    }
   ],
   "source": [
    "result = task_local.result()\n",
    "print(f\"measurement_counts: {result.measurement_counts}\\n\")\n",
    "print(f\"measurement_probabilities: {result.measurement_probabilities}\\n\")\n",
    "plt.bar(result.measurement_counts.keys(), result.measurement_counts.values())\n",
    "plt.show()"
   ]
  },
  {
   "cell_type": "markdown",
   "metadata": {},
   "source": [
    "## Run in AWS Quantum Simulator\n"
   ]
  },
  {
   "cell_type": "code",
   "execution_count": 15,
   "metadata": {},
   "outputs": [],
   "source": [
    "# Sets the AWS Account ID using STS\n",
    "aws_account_id = boto3.client(\"sts\").get_caller_identity()[\"Account\"]\n",
    "\n",
    "# Specifies the S3 bucket to use for job output\n",
    "s3_folder = (f\"braket-output-{aws_account_id}\", \"outputs\")\n",
    "\n",
    "# Sets the quantum device to run the circuit on\n",
    "device_aws = AwsQuantumSimulator(AwsQuantumSimulatorArns.QS1)"
   ]
  },
  {
   "cell_type": "code",
   "execution_count": 16,
   "metadata": {},
   "outputs": [],
   "source": [
    "task_aws = device_aws.run(circ, s3_folder, shots=1000)"
   ]
  },
  {
   "cell_type": "code",
   "execution_count": 17,
   "metadata": {},
   "outputs": [
    {
     "name": "stdout",
     "output_type": "stream",
     "text": [
      "INITIALIZED\n",
      "COMPLETED\n"
     ]
    }
   ],
   "source": [
    "while task_aws.state() != \"COMPLETED\" :\n",
    "    print(task_aws.state())\n",
    "    time.sleep(3)\n",
    "print(task_aws.state())"
   ]
  },
  {
   "cell_type": "code",
   "execution_count": 18,
   "metadata": {
    "scrolled": true
   },
   "outputs": [
    {
     "name": "stdout",
     "output_type": "stream",
     "text": [
      "measurement_counts: Counter({'1011': 1000})\n",
      "\n",
      "measurement_probabilities: {'1011': 1.0}\n",
      "\n"
     ]
    },
    {
     "data": {
      "image/png": "[encoded data removed]",
      "text/plain": [
       "<Figure size 432x288 with 1 Axes>"
      ]
     },
     "metadata": {
      "needs_background": "light"
     },
     "output_type": "display_data"
    }
   ],
   "source": [
    "result = task_aws.result()\n",
    "print(f\"measurement_counts: {result.measurement_counts}\\n\")\n",
    "print(f\"measurement_probabilities: {result.measurement_probabilities}\\n\")\n",
    "plt.bar(result.measurement_counts.keys(), result.measurement_counts.values())\n",
    "plt.show()"
   ]
  },
  {
   "cell_type": "code",
   "execution_count": 19,
   "metadata": {},
   "outputs": [],
   "source": [
    "# Sets the AWS Account ID using STS\n",
    "aws_account_id = boto3.client(\"sts\").get_caller_identity()[\"Account\"]\n",
    "\n",
    "# Specifies the S3 bucket to use for job output\n",
    "s3_folder = (f\"braket-output-{aws_account_id}\", \"outputs\")\n",
    "\n",
    "# Sets the quantum device to run the circuit on\n",
    "device = AwsQpu(AwsQpuArns.RIGETTI)"
   ]
  },
  {
   "cell_type": "code",
   "execution_count": 20,
   "metadata": {},
   "outputs": [],
   "source": [
    "task = device.run(circ, s3_folder, shots=1000)"
   ]
  },
  {
   "cell_type": "code",
   "execution_count": null,
   "metadata": {},
   "outputs": [],
   "source": [
    "\n",
    "print(task.state())"
   ]
  },
  {
   "cell_type": "code",
   "execution_count": null,
   "metadata": {},
   "outputs": [],
   "source": [
    "result = task.result()\n",
    "print(f\"measurement_counts: {result.measurement_counts}\\n\")\n",
    "print(f\"measurement_probabilities: {result.measurement_probabilities}\\n\")\n",
    "plt.bar(result.measurement_counts.keys(), result.measurement_counts.values())\n",
    "plt.show()"
   ]
  },
  {
   "cell_type": "code",
   "execution_count": null,
   "metadata": {},
   "outputs": [],
   "source": []
  }
 ],
 "metadata": {
  "kernelspec": {
   "display_name": "jup_oct_kernel",
   "language": "python",
   "name": "jup_oct_kernel"
  },
  "language_info": {
   "codemirror_mode": {
    "name": "ipython",
    "version": 3
   },
   "file_extension": ".py",
   "mimetype": "text/x-python",
   "name": "python",
   "nbconvert_exporter": "python",
   "pygments_lexer": "ipython3",
   "version": "3.8.5"
  }
 },
 "nbformat": 4,
 "nbformat_minor": 2
}
