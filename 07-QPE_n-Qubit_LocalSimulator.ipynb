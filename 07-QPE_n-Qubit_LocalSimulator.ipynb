{
 "cells": [
  {
   "cell_type": "code",
   "execution_count": 2,
   "metadata": {},
   "outputs": [],
   "source": [
    "from math import pi\n",
    "from braket.circuits import Circuit\n",
    "from braket.aws import AwsQuantumSimulator, AwsQpu\n",
    "import time\n",
    "\n",
    "device_arn = \"arn:aws:aqx:::quantum-simulator:aqx:qs1\"\n",
    "device = AwsQuantumSimulator(device_arn)\n",
    "\n",
    "s3_folder = (\"braket-output-823385403234\", \"outputs\")\n",
    "\n"
   ]
  },
  {
   "cell_type": "code",
   "execution_count": 3,
   "metadata": {},
   "outputs": [],
   "source": [
    "from math import e, pi, cos, sin\n",
    "import numpy as np\n",
    "\n",
    "\n",
    "def cu3(th,phi,lbd):\n",
    "    a = cos(th/2)\n",
    "    b = -1j*(e**(1j*lbd))*(sin(th/2))\n",
    "    c = -1j*(e**(1j*phi))*(sin(th/2))\n",
    "    d = (e**(1j*(lbd+phi)))*(cos(th/2))\n",
    "    #print(np.round([[1,0,0,0],[0,1,0,0],[0,0,a,b],[0,0,c,d]],decimals=3))\n",
    "    return np.array([[1,0,0,0],[0,1,0,0],[0,0,a,b],[0,0,c,d]])\n",
    "\n",
    "#circ2 = Circuit().x(1).unitary(matrix=cu3(pi/2,pi/2,pi/2),targets=[1,0])"
   ]
  },
  {
   "cell_type": "markdown",
   "metadata": {},
   "source": [
    "# "
   ]
  },
  {
   "cell_type": "code",
   "execution_count": 4,
   "metadata": {},
   "outputs": [],
   "source": [
    "# Function to convert binary fractional to decimal  \n",
    "def binaryToDecimal(binary, length) : \n",
    "    point = binary.find('.') \n",
    "    if (point == -1) : \n",
    "        point = length  \n",
    "    intDecimal = 0\n",
    "    fracDecimal = 0\n",
    "    twos = 1\n",
    "    for i in range(point-1, -1, -1) :  \n",
    "        intDecimal += ((ord(binary[i]) - \n",
    "                        ord('0')) * twos)  \n",
    "        twos *= 2\n",
    "    twos = 2\n",
    "    for i in range(point + 1, length): \n",
    "        fracDecimal += ((ord(binary[i]) -\n",
    "                         ord('0')) / twos);  \n",
    "        twos *= 2.0 \n",
    "    ans = intDecimal + fracDecimal \n",
    "    return ans "
   ]
  },
  {
   "cell_type": "code",
   "execution_count": 25,
   "metadata": {},
   "outputs": [],
   "source": [
    "\n",
    "\n",
    "def qpe_c_unitary(circ,n,phase):\n",
    "    repetitions = 1\n",
    "    for j in range(n):\n",
    "        for i in range(repetitions):\n",
    "            circ.cphaseshift(j, n, 2*pi*phase); \n",
    "        repetitions *= 2\n",
    "\n",
    "def add_qft_n(circ, n):\n",
    "    for j in range(n):\n",
    "        circ.h(j)\n",
    "        for k in range(j+1,n):\n",
    "            circ.cphaseshift(k, j, pi/float(2**(k-j)))\n",
    "    for qubit in range(n//2):\n",
    "        circ.swap(qubit, n-qubit-1)\n",
    "\n",
    "\n",
    "def add_qft_dagger_n(circ, n):\n",
    "    for qubit in range(n//2):\n",
    "        circ.swap(qubit, n-qubit-1)\n",
    "    for j in range(n):\n",
    "        for m in range(j):\n",
    "            circ.cphaseshift(j, m, -pi/float(2**(j-m)))\n",
    "        circ.h(j)\n",
    "    for qubit in range(n//2):\n",
    "        circ.swap(qubit, n-qubit-1)\n",
    "            \n",
    "\n",
    "        "
   ]
  },
  {
   "cell_type": "markdown",
   "metadata": {},
   "source": [
    "# Test for |110>\n"
   ]
  },
  {
   "cell_type": "code",
   "execution_count": 34,
   "metadata": {
    "scrolled": true
   },
   "outputs": [
    {
     "name": "stdout",
     "output_type": "stream",
     "text": [
      "T  : |0|     1     |     2     |     3     |     4     |     5     |     6     |     7     |     8     |     9     |    10     |    11     |    12     |    13     |    14     |    15     |    16     |    17     |    18     |    19     |    20     |    21     |    22     |    23     |    24     |    25     |    26     |    27     |    28     |    29     |    30     |    31     | 32 |33|     34     |      35       |            36            |             37              |            38            |      39       |     40     | 41 | 42 |\n",
      "                                                                                                                                                                                                                                                                                                                                                                                                                                                                                                                                                            \n",
      "q0 : -H-C-----------------------------------------------------------------------------------------------------------------------------------------------------------------------------------------------------------------------------------------------------------------------------------------------------------------------------------------------------------------------------------SWAP-H--PHASE(-1.57)---PHASE(-0.785)--------------PHASE(-0.393)-----------------PHASE(-0.196)--------------------------------------------------------------SWAP-\n",
      "        |                                                                                                                                                                                                                                                                                                                                                                                   |       |              |                          |                             |                                                                          |    \n",
      "q1 : -H-|-----------C-----------C-----------------------------------------------------------------------------------------------------------------------------------------------------------SWAP--------------------------------------------------------------------------------------------------------------------------------------------------------------------------------------------|-------C------------H-|-------------PHASE(-1.57)-|---------------PHASE(-0.785)-|--------------------------PHASE(-0.393)------------------------------SWAP-|----\n",
      "        |           |           |                                                                                                                                                           |                                                                                                                                                                                               |                      |             |            |               |             |                          |                                          |    |    \n",
      "q2 : -H-|-----------|-----------|-----------C-----------C-----------C-----------C-----------------------------------------------------------------------------------------------------------|-----------------------------------------------------------------------------------------------------------------------------------------------------------------------------------------------|----------------------C-------------C------------|-------------H-|-------------|-------------PHASE(-1.57)-|---------------PHASE(-0.785)--------------|----|----\n",
      "        |           |           |           |           |           |           |                                                                                                           |                                                                                                                                                                                               |                                                 |               |             |             |            |               |                          |    |    \n",
      "q3 : -H-|-----------|-----------|-----------|-----------|-----------|-----------|-----------C-----------C-----------C-----------C-----------C-----------C-----------C-----------C-----------SWAP--------------------------------------------------------------------------------------------------------------------------------------------------------------------------------------------|-------------------------------------------------C---------------C-------------|-------------C------------|-------------H-|-------------PHASE(-1.57)-SWAP-|----\n",
      "        |           |           |           |           |           |           |           |           |           |           |           |           |           |           |                                                                                                                                                                                                           |                                                                               |                          |               |             |                 |    \n",
      "q4 : -H-|-----------|-----------|-----------|-----------|-----------|-----------|-----------|-----------|-----------|-----------|-----------|-----------|-----------|-----------|-----------C-----------C-----------C-----------C-----------C-----------C-----------C-----------C-----------C-----------C-----------C-----------C-----------C-----------C-----------C-----------C-----------SWAP----------------------------------------------------------------------------C--------------------------C---------------C-------------C------------H----SWAP-\n",
      "        |           |           |           |           |           |           |           |           |           |           |           |           |           |           |           |           |           |           |           |           |           |           |           |           |           |           |           |           |           |           |                                                                                                                                                                           \n",
      "q5 : -X-PHASE(2.09)-PHASE(2.09)-PHASE(2.09)-PHASE(2.09)-PHASE(2.09)-PHASE(2.09)-PHASE(2.09)-PHASE(2.09)-PHASE(2.09)-PHASE(2.09)-PHASE(2.09)-PHASE(2.09)-PHASE(2.09)-PHASE(2.09)-PHASE(2.09)-PHASE(2.09)-PHASE(2.09)-PHASE(2.09)-PHASE(2.09)-PHASE(2.09)-PHASE(2.09)-PHASE(2.09)-PHASE(2.09)-PHASE(2.09)-PHASE(2.09)-PHASE(2.09)-PHASE(2.09)-PHASE(2.09)-PHASE(2.09)-PHASE(2.09)-PHASE(2.09)-----------------------------------------------------------------------------------------------------------------------------------------------------------------\n",
      "\n",
      "T  : |0|     1     |     2     |     3     |     4     |     5     |     6     |     7     |     8     |     9     |    10     |    11     |    12     |    13     |    14     |    15     |    16     |    17     |    18     |    19     |    20     |    21     |    22     |    23     |    24     |    25     |    26     |    27     |    28     |    29     |    30     |    31     | 32 |33|     34     |      35       |            36            |             37              |            38            |      39       |     40     | 41 | 42 |\n"
     ]
    }
   ],
   "source": [
    "circ = Circuit()\n",
    "\n",
    "n=5\n",
    "phase=0.333\n",
    "\n",
    "for j in range(n):\n",
    "    circ.h(j)\n",
    "\n",
    "# Input Function\n",
    "circ.x(n)\n",
    "qpe_c_unitary(circ,n,phase)\n",
    "\n",
    "#add n Qubit QFT-1\n",
    "add_qft_dagger_n(circ,n)\n",
    "\n",
    "\n",
    "print(circ)"
   ]
  },
  {
   "cell_type": "code",
   "execution_count": 35,
   "metadata": {},
   "outputs": [],
   "source": [
    "task = device.run(circ, s3_folder, shots=4000)"
   ]
  },
  {
   "cell_type": "code",
   "execution_count": 36,
   "metadata": {},
   "outputs": [
    {
     "name": "stdout",
     "output_type": "stream",
     "text": [
      "INITIALIZED\n",
      "COMPLETED\n"
     ]
    }
   ],
   "source": [
    "while task.state() != \"COMPLETED\" :\n",
    "    print(task.state())\n",
    "    time.sleep(3)\n",
    "print(task.state())"
   ]
  },
  {
   "cell_type": "code",
   "execution_count": 37,
   "metadata": {
    "scrolled": true
   },
   "outputs": [
    {
     "name": "stdout",
     "output_type": "stream",
     "text": [
      "measurement_counts: Counter({'010111': 2623, '010101': 769, '011001': 188, '010011': 119, '011011': 63, '010001': 41, '011101': 36, '001111': 23, '011111': 19, '001011': 14, '001101': 12, '100001': 8, '101011': 8, '110011': 6, '100111': 6, '001001': 6, '000001': 6, '000011': 6, '100101': 5, '100011': 5, '101001': 5, '111011': 4, '110111': 4, '101101': 4, '000111': 4, '110001': 4, '111111': 3, '111101': 3, '110101': 3, '000101': 1, '111001': 1, '101111': 1})\n",
      "\n",
      "measurement_probabilities: {'010111': 0.65575, '111011': 0.001, '010101': 0.19225, '011001': 0.047, '010001': 0.01025, '010011': 0.02975, '100001': 0.002, '101011': 0.002, '011011': 0.01575, '011101': 0.009, '000101': 0.00025, '110011': 0.0015, '100111': 0.0015, '001101': 0.003, '011111': 0.00475, '001111': 0.00575, '001011': 0.0035, '111001': 0.00025, '001001': 0.0015, '100101': 0.00125, '110111': 0.001, '000001': 0.0015, '101101': 0.001, '000111': 0.001, '111111': 0.00075, '110001': 0.001, '000011': 0.0015, '111101': 0.00075, '100011': 0.00125, '101001': 0.00125, '110101': 0.00075, '101111': 0.00025}\n",
      "\n"
     ]
    }
   ],
   "source": [
    "result = task.result()\n",
    "print(f\"measurement_counts: {result.measurement_counts}\\n\")\n",
    "print(f\"measurement_probabilities: {result.measurement_probabilities}\\n\")"
   ]
  },
  {
   "cell_type": "code",
   "execution_count": 40,
   "metadata": {},
   "outputs": [
    {
     "name": "stdout",
     "output_type": "stream",
     "text": [
      "measurement_of_input_registers: ['01011', '01010', '01100', '01001', '01101', '01000', '01110', '00111', '01111', '00101', '00110', '10000', '10101', '11001', '10011', '00100', '00000', '00001', '10010', '10001', '10100', '11101', '11011', '10110', '00011', '11000', '11111', '11110', '11010', '00010', '11100', '10111']\n",
      "\n"
     ]
    },
    {
     "data": {
      "image/png": "[encoded data removed]",
      "text/plain": [
       "<Figure size 432x288 with 1 Axes>"
      ]
     },
     "metadata": {
      "needs_background": "light"
     },
     "output_type": "display_data"
    }
   ],
   "source": [
    "# Categorize measurements by input register values\n",
    "import matplotlib.pyplot as plt\n",
    "%matplotlib inline\n",
    "\n",
    "answer_plot = {}\n",
    "for measresult in result.measurement_counts.keys():\n",
    "    measresult_input = measresult[:n] #First n qubits\n",
    "    if measresult_input in answer_plot:\n",
    "        answer_plot[measresult_input] += result.measurement_counts[measresult]\n",
    "    else:\n",
    "        answer_plot[measresult_input] = result.measurement_counts[measresult] \n",
    "\n",
    "print(f\"measurement_of_input_registers: {sorted(answer_plot, key=answer_plot.__getitem__,reverse=True),}\\n\")\n",
    "#plt.bar(answer_plot.keys(), answer_plot.values())\n",
    "plt.bar(sorted(answer_plot, key=answer_plot.__getitem__,reverse=True),sorted(answer_plot.values(),reverse=True))\n",
    "plt.xticks(rotation=45)\n",
    "plt.show()"
   ]
  },
  {
   "cell_type": "code",
   "execution_count": 39,
   "metadata": {},
   "outputs": [
    {
     "name": "stdout",
     "output_type": "stream",
     "text": [
      "01011 0.34375 262.3 %\n",
      "01010 0.3125 76.9 %\n",
      "01100 0.375 18.8 %\n",
      "01001 0.28125 11.9 %\n",
      "01101 0.40625 6.3 %\n",
      "01000 0.25 4.1 %\n",
      "01110 0.4375 3.6 %\n",
      "00111 0.21875 2.3 %\n",
      "01111 0.46875 1.9 %\n",
      "00101 0.15625 1.4 %\n",
      "00110 0.1875 1.2 %\n",
      "10000 0.5 0.8 %\n",
      "10101 0.65625 0.8 %\n",
      "11001 0.78125 0.6 %\n",
      "10011 0.59375 0.6 %\n",
      "00100 0.125 0.6 %\n",
      "00000 0.0 0.6 %\n",
      "00001 0.03125 0.6 %\n",
      "10010 0.5625 0.5 %\n",
      "10001 0.53125 0.5 %\n",
      "10100 0.625 0.5 %\n",
      "11101 0.90625 0.4 %\n",
      "11011 0.84375 0.4 %\n",
      "10110 0.6875 0.4 %\n",
      "00011 0.09375 0.4 %\n",
      "11000 0.75 0.4 %\n",
      "11111 0.96875 0.3 %\n",
      "11110 0.9375 0.3 %\n",
      "11010 0.8125 0.3 %\n",
      "00010 0.0625 0.1 %\n",
      "11100 0.875 0.1 %\n",
      "10111 0.71875 0.1 %\n"
     ]
    }
   ],
   "source": [
    "\n",
    "for i in sorted(answer_plot, key=answer_plot.__getitem__,reverse=True):\n",
    "    out=str(i)\n",
    "    print(i,int(out,2)/2**len(out),answer_plot[i]/10,\"%\")\n",
    "    "
   ]
  },
  {
   "cell_type": "code",
   "execution_count": null,
   "metadata": {},
   "outputs": [],
   "source": []
  }
 ],
 "metadata": {
  "kernelspec": {
   "display_name": "jup_oct_kernel",
   "language": "python",
   "name": "jup_oct_kernel"
  },
  "language_info": {
   "codemirror_mode": {
    "name": "ipython",
    "version": 3
   },
   "file_extension": ".py",
   "mimetype": "text/x-python",
   "name": "python",
   "nbconvert_exporter": "python",
   "pygments_lexer": "ipython3",
   "version": "3.8.5"
  }
 },
 "nbformat": 4,
 "nbformat_minor": 2
}
